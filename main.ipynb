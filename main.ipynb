{
 "cells": [
  {
   "cell_type": "code",
   "execution_count": 109,
   "metadata": {},
   "outputs": [],
   "source": [
    "import requests\n",
    "import os\n",
    "import numpy as np\n",
    "import pandas as pd\n",
    "from dotenv import load_dotenv"
   ]
  },
  {
   "cell_type": "markdown",
   "metadata": {},
   "source": [
    "### Load environment variables"
   ]
  },
  {
   "cell_type": "code",
   "execution_count": 3,
   "metadata": {},
   "outputs": [],
   "source": [
    "load_dotenv()\n",
    "\n",
    "api_key = os.getenv('API_KEY')"
   ]
  },
  {
   "cell_type": "markdown",
   "metadata": {},
   "source": [
    "### Get artist's mbid"
   ]
  },
  {
   "cell_type": "code",
   "execution_count": 4,
   "metadata": {},
   "outputs": [
    {
     "name": "stdout",
     "output_type": "stream",
     "text": [
      "{\n",
      "   \"type\" : \"artists\",\n",
      "   \"itemsPerPage\" : 30,\n",
      "   \"page\" : 1,\n",
      "   \"total\" : 3,\n",
      "   \"artist\" : [ {\n",
      "      \"mbid\" : \"71296827-461f-4a9e-a02d-dcc3c293486b\",\n",
      "      \"name\" : \"Santiago Cruz & Rozalén\",\n",
      "      \"sortName\" : \"Cruz, Santiago & Rozalén\",\n",
      "      \"url\" : \"https://www.setlist.fm/setlists/santiago-cruz-and-rozalen-3bf60884.html\"\n",
      "   }, {\n",
      "      \"mbid\" : \"0432dc38-a03b-4325-9609-1caada06f47a\",\n",
      "      \"name\" : \"Rozalén\",\n",
      "      \"sortName\" : \"Rozalén\",\n",
      "      \"disambiguation\" : \"\",\n",
      "      \"url\" : \"https://www.setlist.fm/setlists/rozalen-6bdc5eb2.html\"\n",
      "   }, {\n",
      "      \"mbid\" : \"14cd3589-be97-4bfa-8c30-93a14208a947\",\n",
      "      \"name\" : \"Rozalén & Ana Belén\",\n",
      "      \"sortName\" : \"Rozalén & Belén, Ana\",\n",
      "      \"url\" : \"https://www.setlist.fm/setlists/rozalen-and-ana-belen-1bf705dc.html\"\n",
      "   } ]\n",
      "}\n"
     ]
    }
   ],
   "source": [
    "# api-endpoint\n",
    "URL = \"https://api.setlist.fm/rest/1.0/search/artists\"\n",
    "  \n",
    "artist_name = \"Rozalén\"\n",
    "  \n",
    "# defining a params dict for the parameters to be sent to the API\n",
    "PARAMS = {'artistName': artist_name}\n",
    "  \n",
    "# sending get request and saving the response as response object\n",
    "r = requests.get(url = URL, params = PARAMS, headers={\"Accept\": \"application/json\", \"Accept-Language\": \"es\",  \"x-api-key\": api_key})\n",
    "\n",
    "print(r.text)"
   ]
  },
  {
   "cell_type": "markdown",
   "metadata": {},
   "source": [
    "### Get artist's setlists:"
   ]
  },
  {
   "cell_type": "code",
   "execution_count": 8,
   "metadata": {},
   "outputs": [
    {
     "name": "stdout",
     "output_type": "stream",
     "text": [
      "dict_keys(['type', 'itemsPerPage', 'page', 'total', 'setlist'])\n"
     ]
    }
   ],
   "source": [
    "# Manually, we get the MBID:\n",
    "mbid = \"0432dc38-a03b-4325-9609-1caada06f47a\"\n",
    "# api-endpoint\n",
    "URL = f\"https://api.setlist.fm/rest/1.0/artist/{mbid}/setlists\"\n",
    "\n",
    "# sending get request and saving the response as response object\n",
    "r = requests.get(url = URL, headers={\"Accept\": \"application/json\", \"Accept-Language\": \"es\",  \"x-api-key\": api_key})\n",
    "\n",
    "data = r.json()\n",
    "print(data.keys())"
   ]
  },
  {
   "cell_type": "markdown",
   "metadata": {},
   "source": [
    "#### Formatting and predict next setlist:"
   ]
  },
  {
   "cell_type": "code",
   "execution_count": 159,
   "metadata": {},
   "outputs": [
    {
     "name": "stdout",
     "output_type": "stream",
     "text": [
      "Date: 24-09-2022\n",
      "URL: https://www.setlist.fm/setlist/rozalen/2022/complejo-deportivo-cantarranas-madrid-spain-33b04839.html\n",
      "Date: 17-09-2022\n",
      "URL: https://www.setlist.fm/setlist/rozalen/2022/pistas-de-atletismo-fuente-de-la-nina-guadalajara-spain-63b00213.html\n",
      "Date: 18-08-2022\n",
      "URL: https://www.setlist.fm/setlist/rozalen/2022/plaza-de-toros-herrera-del-duque-spain-73b32e59.html\n",
      "Date: 02-08-2022\n",
      "URL: https://www.setlist.fm/setlist/rozalen/2022/jardines-terramar-sitges-spain-4bb3b37a.html\n",
      "Date: 11-06-2022\n",
      "URL: https://www.setlist.fm/setlist/rozalen/2022/auditorio-de-la-alameda-jaen-spain-63b3a237.html\n"
     ]
    }
   ],
   "source": [
    "setlists = data[\"setlist\"]\n",
    "reduced_sets = {}\n",
    "total_songs_sung = []\n",
    "\n",
    "for idx, i in enumerate(setlists):\n",
    "    if i['sets']['set'] != []:\n",
    "        print(f\"Date: {i['eventDate']}\")\n",
    "        # print(f\"Sets: {i['sets']}\")\n",
    "        print(f\"URL: {i['url']}\")\n",
    "        reduced_sets[idx] = {'eventDate': i['eventDate'], 'url': i['url'], 'sets': i['sets']}\n",
    "        # Amount of songs:\n",
    "        total_songs_sung.append(len(i['sets']['set'][0]['song']))\n",
    "\n",
    "        "
   ]
  },
  {
   "cell_type": "code",
   "execution_count": 160,
   "metadata": {},
   "outputs": [
    {
     "name": "stdout",
     "output_type": "stream",
     "text": [
      "Our predicted setlist will have 19 songs.\n"
     ]
    }
   ],
   "source": [
    "total = len(reduced_sets)\n",
    "# Get the average amount of songs in a concert\n",
    "lenght = int(np.floor(np.mean(total_songs_sung)))\n",
    "print(f\"Our predicted setlist will have {lenght} songs.\")"
   ]
  },
  {
   "cell_type": "code",
   "execution_count": 165,
   "metadata": {},
   "outputs": [],
   "source": [
    "from operator import contains\n",
    "\n",
    "\n",
    "all_songs = []\n",
    "\n",
    "for idx, i in enumerate(reduced_sets.values()):\n",
    "    list_names = i['sets']['set'][0]['song']\n",
    "    for j in list_names:\n",
    "        # This part is most likely exclusively for Rozalén and her encores:\n",
    "        if \"/\" in j['name']:\n",
    "            # print(j['name'])\n",
    "            aux = j[\"name\"].split(\"/\")\n",
    "            aux = [all_songs.append(x.strip()) for x in aux]\n",
    "            # all_songs.append(aux)\n",
    "        else:\n",
    "            all_songs.append(j['name'])"
   ]
  },
  {
   "cell_type": "code",
   "execution_count": 167,
   "metadata": {},
   "outputs": [
    {
     "data": {
      "text/html": [
       "<div>\n",
       "<style scoped>\n",
       "    .dataframe tbody tr th:only-of-type {\n",
       "        vertical-align: middle;\n",
       "    }\n",
       "\n",
       "    .dataframe tbody tr th {\n",
       "        vertical-align: top;\n",
       "    }\n",
       "\n",
       "    .dataframe thead th {\n",
       "        text-align: right;\n",
       "    }\n",
       "</style>\n",
       "<table border=\"1\" class=\"dataframe\">\n",
       "  <thead>\n",
       "    <tr style=\"text-align: right;\">\n",
       "      <th></th>\n",
       "      <th>Songs</th>\n",
       "    </tr>\n",
       "  </thead>\n",
       "  <tbody>\n",
       "    <tr>\n",
       "      <th>0</th>\n",
       "      <td>Este tren</td>\n",
       "    </tr>\n",
       "    <tr>\n",
       "      <th>1</th>\n",
       "      <td>Y busqué</td>\n",
       "    </tr>\n",
       "    <tr>\n",
       "      <th>2</th>\n",
       "      <td>La Línea</td>\n",
       "    </tr>\n",
       "    <tr>\n",
       "      <th>3</th>\n",
       "      <td>Será mejor</td>\n",
       "    </tr>\n",
       "    <tr>\n",
       "      <th>4</th>\n",
       "      <td>A tu vida</td>\n",
       "    </tr>\n",
       "    <tr>\n",
       "      <th>...</th>\n",
       "      <td>...</td>\n",
       "    </tr>\n",
       "    <tr>\n",
       "      <th>109</th>\n",
       "      <td>Y busqué</td>\n",
       "    </tr>\n",
       "    <tr>\n",
       "      <th>110</th>\n",
       "      <td>Girasoles</td>\n",
       "    </tr>\n",
       "    <tr>\n",
       "      <th>111</th>\n",
       "      <td>Agarrarte a la Vida</td>\n",
       "    </tr>\n",
       "    <tr>\n",
       "      <th>112</th>\n",
       "      <td>La puerta violeta</td>\n",
       "    </tr>\n",
       "    <tr>\n",
       "      <th>113</th>\n",
       "      <td>El paso del tiempo</td>\n",
       "    </tr>\n",
       "  </tbody>\n",
       "</table>\n",
       "<p>114 rows × 1 columns</p>\n",
       "</div>"
      ],
      "text/plain": [
       "                   Songs\n",
       "0              Este tren\n",
       "1               Y busqué\n",
       "2               La Línea\n",
       "3             Será mejor\n",
       "4              A tu vida\n",
       "..                   ...\n",
       "109             Y busqué\n",
       "110            Girasoles\n",
       "111  Agarrarte a la Vida\n",
       "112    La puerta violeta\n",
       "113   El paso del tiempo\n",
       "\n",
       "[114 rows x 1 columns]"
      ]
     },
     "execution_count": 167,
     "metadata": {},
     "output_type": "execute_result"
    }
   ],
   "source": [
    "df = pd.DataFrame(all_songs, columns=['Songs'])\n",
    "df"
   ]
  },
  {
   "cell_type": "code",
   "execution_count": 175,
   "metadata": {},
   "outputs": [
    {
     "name": "stdout",
     "output_type": "stream",
     "text": [
      "This is a simple predicted setlist for Rozalén's concert:\n"
     ]
    },
    {
     "data": {
      "text/html": [
       "<div>\n",
       "<style scoped>\n",
       "    .dataframe tbody tr th:only-of-type {\n",
       "        vertical-align: middle;\n",
       "    }\n",
       "\n",
       "    .dataframe tbody tr th {\n",
       "        vertical-align: top;\n",
       "    }\n",
       "\n",
       "    .dataframe thead th {\n",
       "        text-align: right;\n",
       "    }\n",
       "</style>\n",
       "<table border=\"1\" class=\"dataframe\">\n",
       "  <thead>\n",
       "    <tr style=\"text-align: right;\">\n",
       "      <th></th>\n",
       "      <th>Frequency</th>\n",
       "    </tr>\n",
       "    <tr>\n",
       "      <th>Songs</th>\n",
       "      <th></th>\n",
       "    </tr>\n",
       "  </thead>\n",
       "  <tbody>\n",
       "    <tr>\n",
       "      <th>80 veces</th>\n",
       "      <td>5</td>\n",
       "    </tr>\n",
       "    <tr>\n",
       "      <th>Saltan chispas</th>\n",
       "      <td>5</td>\n",
       "    </tr>\n",
       "    <tr>\n",
       "      <th>Vivir</th>\n",
       "      <td>5</td>\n",
       "    </tr>\n",
       "    <tr>\n",
       "      <th>Vuelves</th>\n",
       "      <td>5</td>\n",
       "    </tr>\n",
       "    <tr>\n",
       "      <th>La puerta violeta</th>\n",
       "      <td>5</td>\n",
       "    </tr>\n",
       "    <tr>\n",
       "      <th>A tu vida</th>\n",
       "      <td>5</td>\n",
       "    </tr>\n",
       "    <tr>\n",
       "      <th>La Línea</th>\n",
       "      <td>5</td>\n",
       "    </tr>\n",
       "    <tr>\n",
       "      <th>Justo</th>\n",
       "      <td>5</td>\n",
       "    </tr>\n",
       "    <tr>\n",
       "      <th>Girasoles</th>\n",
       "      <td>5</td>\n",
       "    </tr>\n",
       "    <tr>\n",
       "      <th>Este tren</th>\n",
       "      <td>5</td>\n",
       "    </tr>\n",
       "    <tr>\n",
       "      <th>El paso del tiempo</th>\n",
       "      <td>5</td>\n",
       "    </tr>\n",
       "    <tr>\n",
       "      <th>El día que yo me muera</th>\n",
       "      <td>5</td>\n",
       "    </tr>\n",
       "    <tr>\n",
       "      <th>Y busqué</th>\n",
       "      <td>5</td>\n",
       "    </tr>\n",
       "    <tr>\n",
       "      <th>Comiéndote a besos</th>\n",
       "      <td>5</td>\n",
       "    </tr>\n",
       "    <tr>\n",
       "      <th>Amiga</th>\n",
       "      <td>5</td>\n",
       "    </tr>\n",
       "    <tr>\n",
       "      <th>Agarrarte a la Vida</th>\n",
       "      <td>5</td>\n",
       "    </tr>\n",
       "    <tr>\n",
       "      <th>Será mejor</th>\n",
       "      <td>5</td>\n",
       "    </tr>\n",
       "    <tr>\n",
       "      <th>Tu nombre</th>\n",
       "      <td>4</td>\n",
       "    </tr>\n",
       "    <tr>\n",
       "      <th>La maza</th>\n",
       "      <td>4</td>\n",
       "    </tr>\n",
       "  </tbody>\n",
       "</table>\n",
       "</div>"
      ],
      "text/plain": [
       "                        Frequency\n",
       "Songs                            \n",
       "80 veces                        5\n",
       "Saltan chispas                  5\n",
       "Vivir                           5\n",
       "Vuelves                         5\n",
       "La puerta violeta               5\n",
       "A tu vida                       5\n",
       "La Línea                        5\n",
       "Justo                           5\n",
       "Girasoles                       5\n",
       "Este tren                       5\n",
       "El paso del tiempo              5\n",
       "El día que yo me muera          5\n",
       "Y busqué                        5\n",
       "Comiéndote a besos              5\n",
       "Amiga                           5\n",
       "Agarrarte a la Vida             5\n",
       "Será mejor                      5\n",
       "Tu nombre                       4\n",
       "La maza                         4"
      ]
     },
     "execution_count": 175,
     "metadata": {},
     "output_type": "execute_result"
    }
   ],
   "source": [
    "freq = df.groupby(by=['Songs']).agg({'Songs': 'count'}).rename(columns={'Songs':'Frequency'}).sort_values(by=['Frequency'], ascending=False)\n",
    "# Select the n top most frequent songs sung:\n",
    "print(f\"This is a simple predicted setlist for {artist_name}'s concert:\")\n",
    "freq.head(lenght)"
   ]
  }
 ],
 "metadata": {
  "kernelspec": {
   "display_name": "Python 3.10.7 ('setlists-venv': venv)",
   "language": "python",
   "name": "python3"
  },
  "language_info": {
   "codemirror_mode": {
    "name": "ipython",
    "version": 3
   },
   "file_extension": ".py",
   "mimetype": "text/x-python",
   "name": "python",
   "nbconvert_exporter": "python",
   "pygments_lexer": "ipython3",
   "version": "3.10.7"
  },
  "orig_nbformat": 4,
  "vscode": {
   "interpreter": {
    "hash": "38a813469185a19d7efad8223107bdffebe9017e10376b44a7c838d102099acb"
   }
  }
 },
 "nbformat": 4,
 "nbformat_minor": 2
}
