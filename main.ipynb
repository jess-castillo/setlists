{
 "cells": [
  {
   "cell_type": "code",
   "execution_count": 2,
   "metadata": {},
   "outputs": [],
   "source": [
    "import requests\n",
    "import os\n",
    "from dotenv import load_dotenv"
   ]
  },
  {
   "cell_type": "markdown",
   "metadata": {},
   "source": [
    "### Load environment variables"
   ]
  },
  {
   "cell_type": "code",
   "execution_count": 3,
   "metadata": {},
   "outputs": [],
   "source": [
    "load_dotenv()\n",
    "\n",
    "api_key = os.getenv('API_KEY')"
   ]
  },
  {
   "cell_type": "markdown",
   "metadata": {},
   "source": [
    "### Get artist's mbid"
   ]
  },
  {
   "cell_type": "code",
   "execution_count": 16,
   "metadata": {},
   "outputs": [
    {
     "name": "stdout",
     "output_type": "stream",
     "text": [
      "{\n",
      "   \"type\" : \"artists\",\n",
      "   \"itemsPerPage\" : 30,\n",
      "   \"page\" : 1,\n",
      "   \"total\" : 3,\n",
      "   \"artist\" : [ {\n",
      "      \"mbid\" : \"71296827-461f-4a9e-a02d-dcc3c293486b\",\n",
      "      \"name\" : \"Santiago Cruz & Rozalén\",\n",
      "      \"sortName\" : \"Cruz, Santiago & Rozalén\",\n",
      "      \"url\" : \"https://www.setlist.fm/setlists/santiago-cruz-and-rozalen-3bf60884.html\"\n",
      "   }, {\n",
      "      \"mbid\" : \"0432dc38-a03b-4325-9609-1caada06f47a\",\n",
      "      \"name\" : \"Rozalén\",\n",
      "      \"sortName\" : \"Rozalén\",\n",
      "      \"disambiguation\" : \"\",\n",
      "      \"url\" : \"https://www.setlist.fm/setlists/rozalen-6bdc5eb2.html\"\n",
      "   }, {\n",
      "      \"mbid\" : \"14cd3589-be97-4bfa-8c30-93a14208a947\",\n",
      "      \"name\" : \"Rozalén & Ana Belén\",\n",
      "      \"sortName\" : \"Rozalén & Belén, Ana\",\n",
      "      \"url\" : \"https://www.setlist.fm/setlists/rozalen-and-ana-belen-1bf705dc.html\"\n",
      "   } ]\n",
      "}\n"
     ]
    }
   ],
   "source": [
    "# api-endpoint\n",
    "URL = \"https://api.setlist.fm/rest/1.0/search/artists\"\n",
    "  \n",
    "artist_name = \"Rozalén\"\n",
    "  \n",
    "# defining a params dict for the parameters to be sent to the API\n",
    "PARAMS = {'artistName': artist_name}\n",
    "  \n",
    "# sending get request and saving the response as response object\n",
    "r = requests.get(url = URL, params = PARAMS, headers={\"Accept\": \"application/json\", \"Accept-Language\": \"es\",  \"x-api-key\": api_key})\n",
    "\n",
    "print(r.text)"
   ]
  },
  {
   "cell_type": "markdown",
   "metadata": {},
   "source": [
    "### Get artist's setlists:"
   ]
  },
  {
   "cell_type": "code",
   "execution_count": 30,
   "metadata": {},
   "outputs": [
    {
     "name": "stdout",
     "output_type": "stream",
     "text": [
      "dict_keys(['type', 'itemsPerPage', 'page', 'total', 'setlist'])\n"
     ]
    }
   ],
   "source": [
    "# Manually, we get the MBID:\n",
    "mbid = \"0432dc38-a03b-4325-9609-1caada06f47a\"\n",
    "# api-endpoint\n",
    "URL = f\"https://api.setlist.fm/rest/1.0/artist/{mbid}/setlists\"\n",
    "\n",
    "# sending get request and saving the response as response object\n",
    "r = requests.get(url = URL, headers={\"Accept\": \"application/json\", \"Accept-Language\": \"es\",  \"x-api-key\": api_key})\n",
    "\n",
    "data = r.json()\n",
    "print(data.keys())"
   ]
  },
  {
   "cell_type": "code",
   "execution_count": 35,
   "metadata": {},
   "outputs": [
    {
     "data": {
      "text/plain": [
       "{'id': '3bb13874',\n",
       " 'versionId': 'gbf8a1ba',\n",
       " 'eventDate': '07-10-2022',\n",
       " 'lastUpdated': '2022-10-06T18:53:33.000+0000',\n",
       " 'artist': {'mbid': '0432dc38-a03b-4325-9609-1caada06f47a',\n",
       "  'name': 'Rozalén',\n",
       "  'sortName': 'Rozalén',\n",
       "  'disambiguation': '',\n",
       "  'url': 'https://www.setlist.fm/setlists/rozalen-6bdc5eb2.html'},\n",
       " 'venue': {'id': '2bd0202a',\n",
       "  'name': 'Valle VFG',\n",
       "  'city': {'id': '4005539',\n",
       "   'name': 'Guadalajara',\n",
       "   'state': 'Jalisco',\n",
       "   'stateCode': 'JAL',\n",
       "   'coords': {'lat': 20.6666667, 'long': -103.3333333},\n",
       "   'country': {'code': 'MX', 'name': 'México'}},\n",
       "  'url': 'https://www.setlist.fm/venue/valle-vfg-guadalajara-mexico-2bd0202a.html'},\n",
       " 'sets': {'set': []},\n",
       " 'url': 'https://www.setlist.fm/setlist/rozalen/2022/valle-vfg-guadalajara-mexico-3bb13874.html'}"
      ]
     },
     "execution_count": 35,
     "metadata": {},
     "output_type": "execute_result"
    }
   ],
   "source": [
    "setlists = data[\"setlist\"]\n",
    "setlists[0]"
   ]
  },
  {
   "cell_type": "code",
   "execution_count": 40,
   "metadata": {},
   "outputs": [
    {
     "name": "stdout",
     "output_type": "stream",
     "text": [
      "Date: 24-09-2022\n",
      "Sets: {'set': [{'song': [{'name': 'Este tren'}, {'name': 'Y busqué'}, {'name': 'La Línea'}, {'name': 'Será mejor'}, {'name': 'A tu vida'}, {'name': 'Justo'}, {'name': 'Vivir'}, {'name': 'El día que yo me muera'}, {'name': 'Amiga'}, {'name': 'Me arrepiento / Tu nombre / 80 veces / Saltan chispas', 'info': 'Presentación de la banda + Seven Nation Army outro'}, {'name': 'Vuelves / Comiéndote a besos'}, {'name': 'Girasoles'}, {'name': 'Agarrarte a la Vida'}, {'name': 'La puerta violeta'}, {'name': 'El paso del tiempo'}]}]}\n",
      "URL: https://www.setlist.fm/setlist/rozalen/2022/complejo-deportivo-cantarranas-madrid-spain-33b04839.html\n",
      "Date: 17-09-2022\n",
      "Sets: {'set': [{'song': [{'name': 'Este tren'}, {'name': 'Dragón rojo'}, {'name': 'Será mejor'}, {'name': 'A tu vida'}, {'name': 'La Línea'}, {'name': 'Justo'}, {'name': 'Mar en el trigal'}, {'name': 'La maza'}, {'name': 'Que no, que no'}, {'name': 'Yo no renuncio'}, {'name': 'Vivir'}, {'name': 'El día que yo me muera'}, {'name': 'Amiga'}, {'name': 'Me arrepiento / Tu nombre / 80 veces / Saltan chispas', 'info': 'Rozalén thanked the staff and Seven Nation Army outro'}, {'name': 'Vuelves / Comiéndote a besos'}, {'name': 'Y busqué'}, {'name': 'Girasoles'}, {'name': 'Agarrarte a la Vida'}, {'name': 'La puerta violeta'}, {'name': 'El paso del tiempo'}]}]}\n",
      "URL: https://www.setlist.fm/setlist/rozalen/2022/pistas-de-atletismo-fuente-de-la-nina-guadalajara-spain-63b00213.html\n",
      "Date: 18-08-2022\n",
      "Sets: {'set': [{'song': [{'name': 'Este tren'}, {'name': 'Dragón rojo'}, {'name': 'Será mejor'}, {'name': 'A tu vida'}, {'name': 'La Línea'}, {'name': 'Justo'}, {'name': 'Mar en el trigal'}, {'name': 'La maza'}, {'name': 'Que no, que no'}, {'name': 'Yo no renuncio'}, {'name': 'Vivir'}, {'name': 'El día que yo me muera'}, {'name': 'Amiga'}, {'name': 'Me arrepiento / Tu nombre / 80 veces / Saltan chispas / Vuelves / Comiéndote a besos'}, {'name': 'Y busqué'}, {'name': 'Girasoles'}, {'name': 'Agarrarte a la Vida'}, {'name': 'La puerta violeta'}, {'name': 'El paso del tiempo'}]}]}\n",
      "URL: https://www.setlist.fm/setlist/rozalen/2022/plaza-de-toros-herrera-del-duque-spain-73b32e59.html\n",
      "Date: 02-08-2022\n",
      "Sets: {'set': [{'song': [{'name': 'Este tren'}, {'name': 'Dragón rojo'}, {'name': 'Será mejor'}, {'name': 'A tu vida'}, {'name': 'La Línea'}, {'name': 'Justo'}, {'name': 'Mar en el trigal'}, {'name': 'La maza'}, {'name': 'Que no, que no'}, {'name': 'Yo no renuncio'}, {'name': 'Vivir'}, {'name': 'El día que yo me muera'}, {'name': 'Amiga'}, {'name': 'Me arrepiento / Tu nombre / 80 veces / Saltan chispas / Vuelves / Comiéndote a besos'}, {'name': 'Y busqué'}, {'name': 'Girasoles'}, {'name': 'Agarrarte a la Vida'}, {'name': 'La puerta violeta'}, {'name': 'El paso del tiempo'}]}]}\n",
      "URL: https://www.setlist.fm/setlist/rozalen/2022/jardines-terramar-sitges-spain-4bb3b37a.html\n",
      "Date: 11-06-2022\n",
      "Sets: {'set': [{'song': [{'name': 'Este tren'}, {'name': 'Dragón rojo'}, {'name': 'Será mejor'}, {'name': 'A tu vida'}, {'name': 'La Línea'}, {'name': 'Justo'}, {'name': 'Mar en el trigal'}, {'name': 'La maza'}, {'name': 'Que no, que no'}, {'name': 'Yo no renuncio'}, {'name': 'Vivir'}, {'name': 'El día que yo me muera'}, {'name': 'Amiga'}, {'name': 'Las hadas existen'}, {'name': '80 veces'}, {'name': 'Saltan chispas'}, {'name': 'Vuelves'}, {'name': 'Comiéndote a besos'}, {'name': 'Y busqué'}, {'name': 'Girasoles'}, {'name': 'Agarrarte a la Vida'}, {'name': 'La puerta violeta'}, {'name': 'El paso del tiempo'}]}]}\n",
      "URL: https://www.setlist.fm/setlist/rozalen/2022/auditorio-de-la-alameda-jaen-spain-63b3a237.html\n"
     ]
    }
   ],
   "source": [
    "for i in setlists:\n",
    "    if i['sets']['set'] != []: \n",
    "        print(f\"Date: {i['eventDate']}\")\n",
    "        print(f\"Sets: {i['sets']}\")\n",
    "        print(f\"URL: {i['url']}\")"
   ]
  },
  {
   "cell_type": "code",
   "execution_count": null,
   "metadata": {},
   "outputs": [],
   "source": []
  }
 ],
 "metadata": {
  "kernelspec": {
   "display_name": "Python 3.10.7 ('setlists-venv': venv)",
   "language": "python",
   "name": "python3"
  },
  "language_info": {
   "codemirror_mode": {
    "name": "ipython",
    "version": 3
   },
   "file_extension": ".py",
   "mimetype": "text/x-python",
   "name": "python",
   "nbconvert_exporter": "python",
   "pygments_lexer": "ipython3",
   "version": "3.10.7"
  },
  "orig_nbformat": 4,
  "vscode": {
   "interpreter": {
    "hash": "38a813469185a19d7efad8223107bdffebe9017e10376b44a7c838d102099acb"
   }
  }
 },
 "nbformat": 4,
 "nbformat_minor": 2
}
